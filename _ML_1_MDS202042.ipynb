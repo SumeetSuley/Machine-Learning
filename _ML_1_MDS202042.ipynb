{
 "cells": [
  {
   "cell_type": "markdown",
   "metadata": {},
   "source": [
    "# DMML Assignment 1"
   ]
  },
  {
   "cell_type": "code",
   "execution_count": 643,
   "metadata": {
    "id": "_XY1hZRKGqhz"
   },
   "outputs": [],
   "source": [
    "#import relevant libraries\n",
    "\n",
    "import pandas as pd\n",
    "import matplotlib.pyplot as plt\n",
    "import numpy as np\n",
    "from sklearn.model_selection import train_test_split\n",
    "from sklearn.ensemble import RandomForestClassifier\n",
    "from sklearn.metrics import accuracy_score\n",
    "from sklearn.metrics import f1_score\n",
    "from sklearn.metrics import roc_auc_score\n",
    "from sklearn.metrics import precision_recall_fscore_support\n",
    "from sklearn.metrics import confusion_matrix\n",
    "from sklearn.naive_bayes import GaussianNB\n",
    "from sklearn.naive_bayes import BernoulliNB\n",
    "from sklearn.metrics import precision_score, recall_score\n",
    "from sklearn.tree import DecisionTreeClassifier\n",
    "import seaborn as sns\n",
    "import time\n",
    "%matplotlib inline"
   ]
  },
  {
   "cell_type": "code",
   "execution_count": 644,
   "metadata": {
    "id": "HFVAFjmHGunj"
   },
   "outputs": [],
   "source": [
    "#read data into dataframe\n",
    "data = pd.read_csv(\"bank-additional-full.csv\",sep = \";\")"
   ]
  },
  {
   "cell_type": "code",
   "execution_count": 645,
   "metadata": {
    "colab": {
     "base_uri": "https://localhost:8080/"
    },
    "id": "L9jzauVTnLvH",
    "outputId": "44142efe-52d2-487c-b41d-0d04afcf1e59"
   },
   "outputs": [
    {
     "data": {
      "text/plain": [
       "(41188, 21)"
      ]
     },
     "execution_count": 645,
     "metadata": {},
     "output_type": "execute_result"
    }
   ],
   "source": [
    "data.shape"
   ]
  },
  {
   "cell_type": "code",
   "execution_count": 646,
   "metadata": {
    "colab": {
     "base_uri": "https://localhost:8080/",
     "height": 224
    },
    "id": "gtZ9dI5TH4k_",
    "outputId": "757007af-9265-4ef1-a1ba-7677c9c0e999"
   },
   "outputs": [
    {
     "data": {
      "text/html": [
       "<div>\n",
       "<style scoped>\n",
       "    .dataframe tbody tr th:only-of-type {\n",
       "        vertical-align: middle;\n",
       "    }\n",
       "\n",
       "    .dataframe tbody tr th {\n",
       "        vertical-align: top;\n",
       "    }\n",
       "\n",
       "    .dataframe thead th {\n",
       "        text-align: right;\n",
       "    }\n",
       "</style>\n",
       "<table border=\"1\" class=\"dataframe\">\n",
       "  <thead>\n",
       "    <tr style=\"text-align: right;\">\n",
       "      <th></th>\n",
       "      <th>age</th>\n",
       "      <th>job</th>\n",
       "      <th>marital</th>\n",
       "      <th>education</th>\n",
       "      <th>default</th>\n",
       "      <th>housing</th>\n",
       "      <th>loan</th>\n",
       "      <th>contact</th>\n",
       "      <th>month</th>\n",
       "      <th>day_of_week</th>\n",
       "      <th>...</th>\n",
       "      <th>campaign</th>\n",
       "      <th>pdays</th>\n",
       "      <th>previous</th>\n",
       "      <th>poutcome</th>\n",
       "      <th>emp.var.rate</th>\n",
       "      <th>cons.price.idx</th>\n",
       "      <th>cons.conf.idx</th>\n",
       "      <th>euribor3m</th>\n",
       "      <th>nr.employed</th>\n",
       "      <th>y</th>\n",
       "    </tr>\n",
       "  </thead>\n",
       "  <tbody>\n",
       "    <tr>\n",
       "      <th>0</th>\n",
       "      <td>56</td>\n",
       "      <td>housemaid</td>\n",
       "      <td>married</td>\n",
       "      <td>basic.4y</td>\n",
       "      <td>no</td>\n",
       "      <td>no</td>\n",
       "      <td>no</td>\n",
       "      <td>telephone</td>\n",
       "      <td>may</td>\n",
       "      <td>mon</td>\n",
       "      <td>...</td>\n",
       "      <td>1</td>\n",
       "      <td>999</td>\n",
       "      <td>0</td>\n",
       "      <td>nonexistent</td>\n",
       "      <td>1.1</td>\n",
       "      <td>93.994</td>\n",
       "      <td>-36.4</td>\n",
       "      <td>4.857</td>\n",
       "      <td>5191.0</td>\n",
       "      <td>no</td>\n",
       "    </tr>\n",
       "    <tr>\n",
       "      <th>1</th>\n",
       "      <td>57</td>\n",
       "      <td>services</td>\n",
       "      <td>married</td>\n",
       "      <td>high.school</td>\n",
       "      <td>unknown</td>\n",
       "      <td>no</td>\n",
       "      <td>no</td>\n",
       "      <td>telephone</td>\n",
       "      <td>may</td>\n",
       "      <td>mon</td>\n",
       "      <td>...</td>\n",
       "      <td>1</td>\n",
       "      <td>999</td>\n",
       "      <td>0</td>\n",
       "      <td>nonexistent</td>\n",
       "      <td>1.1</td>\n",
       "      <td>93.994</td>\n",
       "      <td>-36.4</td>\n",
       "      <td>4.857</td>\n",
       "      <td>5191.0</td>\n",
       "      <td>no</td>\n",
       "    </tr>\n",
       "    <tr>\n",
       "      <th>2</th>\n",
       "      <td>37</td>\n",
       "      <td>services</td>\n",
       "      <td>married</td>\n",
       "      <td>high.school</td>\n",
       "      <td>no</td>\n",
       "      <td>yes</td>\n",
       "      <td>no</td>\n",
       "      <td>telephone</td>\n",
       "      <td>may</td>\n",
       "      <td>mon</td>\n",
       "      <td>...</td>\n",
       "      <td>1</td>\n",
       "      <td>999</td>\n",
       "      <td>0</td>\n",
       "      <td>nonexistent</td>\n",
       "      <td>1.1</td>\n",
       "      <td>93.994</td>\n",
       "      <td>-36.4</td>\n",
       "      <td>4.857</td>\n",
       "      <td>5191.0</td>\n",
       "      <td>no</td>\n",
       "    </tr>\n",
       "    <tr>\n",
       "      <th>3</th>\n",
       "      <td>40</td>\n",
       "      <td>admin.</td>\n",
       "      <td>married</td>\n",
       "      <td>basic.6y</td>\n",
       "      <td>no</td>\n",
       "      <td>no</td>\n",
       "      <td>no</td>\n",
       "      <td>telephone</td>\n",
       "      <td>may</td>\n",
       "      <td>mon</td>\n",
       "      <td>...</td>\n",
       "      <td>1</td>\n",
       "      <td>999</td>\n",
       "      <td>0</td>\n",
       "      <td>nonexistent</td>\n",
       "      <td>1.1</td>\n",
       "      <td>93.994</td>\n",
       "      <td>-36.4</td>\n",
       "      <td>4.857</td>\n",
       "      <td>5191.0</td>\n",
       "      <td>no</td>\n",
       "    </tr>\n",
       "    <tr>\n",
       "      <th>4</th>\n",
       "      <td>56</td>\n",
       "      <td>services</td>\n",
       "      <td>married</td>\n",
       "      <td>high.school</td>\n",
       "      <td>no</td>\n",
       "      <td>no</td>\n",
       "      <td>yes</td>\n",
       "      <td>telephone</td>\n",
       "      <td>may</td>\n",
       "      <td>mon</td>\n",
       "      <td>...</td>\n",
       "      <td>1</td>\n",
       "      <td>999</td>\n",
       "      <td>0</td>\n",
       "      <td>nonexistent</td>\n",
       "      <td>1.1</td>\n",
       "      <td>93.994</td>\n",
       "      <td>-36.4</td>\n",
       "      <td>4.857</td>\n",
       "      <td>5191.0</td>\n",
       "      <td>no</td>\n",
       "    </tr>\n",
       "  </tbody>\n",
       "</table>\n",
       "<p>5 rows × 21 columns</p>\n",
       "</div>"
      ],
      "text/plain": [
       "   age        job  marital    education  default housing loan    contact  \\\n",
       "0   56  housemaid  married     basic.4y       no      no   no  telephone   \n",
       "1   57   services  married  high.school  unknown      no   no  telephone   \n",
       "2   37   services  married  high.school       no     yes   no  telephone   \n",
       "3   40     admin.  married     basic.6y       no      no   no  telephone   \n",
       "4   56   services  married  high.school       no      no  yes  telephone   \n",
       "\n",
       "  month day_of_week  ...  campaign  pdays  previous     poutcome emp.var.rate  \\\n",
       "0   may         mon  ...         1    999         0  nonexistent          1.1   \n",
       "1   may         mon  ...         1    999         0  nonexistent          1.1   \n",
       "2   may         mon  ...         1    999         0  nonexistent          1.1   \n",
       "3   may         mon  ...         1    999         0  nonexistent          1.1   \n",
       "4   may         mon  ...         1    999         0  nonexistent          1.1   \n",
       "\n",
       "   cons.price.idx  cons.conf.idx  euribor3m  nr.employed   y  \n",
       "0          93.994          -36.4      4.857       5191.0  no  \n",
       "1          93.994          -36.4      4.857       5191.0  no  \n",
       "2          93.994          -36.4      4.857       5191.0  no  \n",
       "3          93.994          -36.4      4.857       5191.0  no  \n",
       "4          93.994          -36.4      4.857       5191.0  no  \n",
       "\n",
       "[5 rows x 21 columns]"
      ]
     },
     "execution_count": 646,
     "metadata": {},
     "output_type": "execute_result"
    }
   ],
   "source": [
    "data.head(5)"
   ]
  },
  {
   "cell_type": "markdown",
   "metadata": {},
   "source": [
    "## Cleaning And Processing Data"
   ]
  },
  {
   "cell_type": "code",
   "execution_count": 647,
   "metadata": {
    "id": "xErnteiCH54T"
   },
   "outputs": [],
   "source": [
    "# replace string \"unknown\" with NaN value\n",
    "\n",
    "data['job'].replace('unknown',np.nan,inplace = True)\n",
    "data['education'].replace('unknown',np.nan,inplace = True)\n",
    "data['marital'].replace('unknown',np.nan,inplace = True)\n",
    "data['loan'].replace('unknown',np.nan,inplace=True)\n",
    "data['housing'].replace('unknown',np.nan,inplace=True)\n"
   ]
  },
  {
   "cell_type": "code",
   "execution_count": 648,
   "metadata": {},
   "outputs": [
    {
     "data": {
      "text/plain": [
       "array(['nonexistent', 'failure', 'success'], dtype=object)"
      ]
     },
     "execution_count": 648,
     "metadata": {},
     "output_type": "execute_result"
    }
   ],
   "source": [
    "data['poutcome'].unique()"
   ]
  },
  {
   "cell_type": "code",
   "execution_count": 649,
   "metadata": {},
   "outputs": [
    {
     "data": {
      "text/plain": [
       "nonexistent    35563\n",
       "failure         4252\n",
       "success         1373\n",
       "Name: poutcome, dtype: int64"
      ]
     },
     "execution_count": 649,
     "metadata": {},
     "output_type": "execute_result"
    }
   ],
   "source": [
    "data['poutcome'].value_counts()"
   ]
  },
  {
   "cell_type": "code",
   "execution_count": 650,
   "metadata": {},
   "outputs": [],
   "source": [
    "#data['poutcome'].replace('nonexistent',np.nan,inplace=True)\n",
    "#data['poutcome'].fillna(0,inplace = True)\n",
    "#replace the null values with the mode"
   ]
  },
  {
   "cell_type": "code",
   "execution_count": 651,
   "metadata": {
    "colab": {
     "base_uri": "https://localhost:8080/"
    },
    "id": "DFbVgCDaH-J8",
    "outputId": "ee8e7deb-5908-49f9-f91e-7b5cf49e0fa7"
   },
   "outputs": [
    {
     "data": {
      "text/plain": [
       "age                  0\n",
       "job                330\n",
       "marital             80\n",
       "education         1731\n",
       "default              0\n",
       "housing            990\n",
       "loan               990\n",
       "contact              0\n",
       "month                0\n",
       "day_of_week          0\n",
       "duration             0\n",
       "campaign             0\n",
       "pdays                0\n",
       "previous             0\n",
       "poutcome             0\n",
       "emp.var.rate         0\n",
       "cons.price.idx       0\n",
       "cons.conf.idx        0\n",
       "euribor3m            0\n",
       "nr.employed          0\n",
       "y                    0\n",
       "dtype: int64"
      ]
     },
     "execution_count": 651,
     "metadata": {},
     "output_type": "execute_result"
    }
   ],
   "source": [
    "data.isnull().sum()\n",
    "\n",
    "#number of null values in each column. "
   ]
  },
  {
   "cell_type": "markdown",
   "metadata": {},
   "source": [
    "Now we clean the data, we convert the binary type values to 1s and 0s and use OneHot Encoding to encode attributes with categorical features like 'marital', 'education', 'Month', 'day_of_week'"
   ]
  },
  {
   "cell_type": "code",
   "execution_count": 652,
   "metadata": {
    "id": "Qmv68T2VIBpy"
   },
   "outputs": [],
   "source": [
    "data['loan'] = data['loan'].replace('yes',1)\n",
    "data['loan'] = data['loan'].replace('no',0)\n",
    "\n",
    "\n",
    "data['housing'] = data['housing'].replace('yes',1)\n",
    "data['housing'] = data['housing'].replace('no',0)\n",
    "\n",
    "data['contact'] = data['contact'].replace('telephone',1)\n",
    "data['contact'] = data['contact'].replace('cellular',0)\n",
    "\n",
    "data['default'] = data['default'].replace('yes',1)\n",
    "data['default'] = data['default'].replace('no',0)\n",
    "#data['default'].replace('unknown',np.nan,inplace=True)\n",
    "\n",
    "data['poutcome'] = data['poutcome'].replace('success',1)\n",
    "data['poutcome'] = data['poutcome'].replace('failure',0)\n",
    "\n",
    "data['y'] = data['y'].replace('yes',1)\n",
    "data['y'] = data['y'].replace('no',0)"
   ]
  },
  {
   "cell_type": "code",
   "execution_count": 653,
   "metadata": {
    "id": "PizIakazKB5c"
   },
   "outputs": [
    {
     "data": {
      "text/plain": [
       "0          32588\n",
       "unknown     8597\n",
       "1              3\n",
       "Name: default, dtype: int64"
      ]
     },
     "execution_count": 653,
     "metadata": {},
     "output_type": "execute_result"
    }
   ],
   "source": [
    "data['default'].value_counts()"
   ]
  },
  {
   "cell_type": "code",
   "execution_count": 654,
   "metadata": {
    "colab": {
     "base_uri": "https://localhost:8080/"
    },
    "id": "CBZFvt5HISNh",
    "outputId": "1b36b32f-6ca1-42a7-9825-5b9ef1a98467"
   },
   "outputs": [],
   "source": [
    "data['default'].replace(\"unknown\",0,inplace = True)"
   ]
  },
  {
   "cell_type": "code",
   "execution_count": 655,
   "metadata": {},
   "outputs": [],
   "source": [
    "data['job'].dropna(axis = 0,inplace = True)\n",
    "data['education'].dropna(axis = 0,inplace = True)\n",
    "data['marital'].dropna(axis = 0,inplace = True)"
   ]
  },
  {
   "cell_type": "code",
   "execution_count": 656,
   "metadata": {},
   "outputs": [],
   "source": [
    "# One Hot Encode Categorical Attributes\n",
    "jobs = pd.get_dummies(data['job'])\n",
    "marital = pd.get_dummies(data['marital'])\n",
    "edu = pd.get_dummies(data['education'])\n",
    "months = pd.get_dummies(data['month'])\n",
    "week = pd.get_dummies(data['day_of_week'])"
   ]
  },
  {
   "cell_type": "code",
   "execution_count": 657,
   "metadata": {},
   "outputs": [],
   "source": [
    "data = data.join(jobs)\n",
    "data = data.join(marital)\n",
    "data = data.join(edu)\n",
    "data = data.join(months)\n",
    "data = data.join(week)"
   ]
  },
  {
   "cell_type": "code",
   "execution_count": 658,
   "metadata": {},
   "outputs": [
    {
     "data": {
      "text/plain": [
       "Index(['age', 'job', 'marital', 'education', 'default', 'housing', 'loan',\n",
       "       'contact', 'month', 'day_of_week', 'duration', 'campaign', 'pdays',\n",
       "       'previous', 'poutcome', 'emp.var.rate', 'cons.price.idx',\n",
       "       'cons.conf.idx', 'euribor3m', 'nr.employed', 'y', 'admin.',\n",
       "       'blue-collar', 'entrepreneur', 'housemaid', 'management', 'retired',\n",
       "       'self-employed', 'services', 'student', 'technician', 'unemployed',\n",
       "       'divorced', 'married', 'single', 'basic.4y', 'basic.6y', 'basic.9y',\n",
       "       'high.school', 'illiterate', 'professional.course', 'university.degree',\n",
       "       'apr', 'aug', 'dec', 'jul', 'jun', 'mar', 'may', 'nov', 'oct', 'sep',\n",
       "       'fri', 'mon', 'thu', 'tue', 'wed'],\n",
       "      dtype='object')"
      ]
     },
     "execution_count": 658,
     "metadata": {},
     "output_type": "execute_result"
    }
   ],
   "source": [
    "data.columns"
   ]
  },
  {
   "cell_type": "code",
   "execution_count": 765,
   "metadata": {
    "colab": {
     "base_uri": "https://localhost:8080/",
     "height": 460
    },
    "id": "toWKISNaq4S1",
    "outputId": "07506167-82c0-478a-a926-726197ab34eb"
   },
   "outputs": [
    {
     "data": {
      "image/png": "[encoded data removed]",
      "text/plain": [
       "<Figure size 576x288 with 1 Axes>"
      ]
     },
     "metadata": {
      "needs_background": "light"
     },
     "output_type": "display_data"
    }
   ],
   "source": [
    "plt.figure(figsize=(8,4))\n",
    "data['y'].plot.hist(data['y'])\n",
    "plt.title(\"Subscribed to term deposit\")\n",
    "plt.show()"
   ]
  },
  {
   "cell_type": "code",
   "execution_count": 660,
   "metadata": {
    "colab": {
     "base_uri": "https://localhost:8080/"
    },
    "id": "m10bezuVtNjq",
    "outputId": "026e9a4e-2d30-4100-e921-ffd3f30f4419"
   },
   "outputs": [
    {
     "data": {
      "text/plain": [
       "0    36548\n",
       "1     4640\n",
       "Name: y, dtype: int64"
      ]
     },
     "execution_count": 660,
     "metadata": {},
     "output_type": "execute_result"
    }
   ],
   "source": [
    "data['y'].value_counts()"
   ]
  },
  {
   "cell_type": "markdown",
   "metadata": {},
   "source": [
    "As we can see, the number of clients that did not subsribe to the term deposit is a lot higher than the ones who did. \n",
    "Therefore, this is an imbalanced dataset where majority class makes up for 88.7% of the dataset and minority class makes up 11.3%"
   ]
  },
  {
   "cell_type": "code",
   "execution_count": 764,
   "metadata": {
    "colab": {
     "base_uri": "https://localhost:8080/",
     "height": 624
    },
    "id": "_obj4nofJATR",
    "outputId": "9145d29e-85a6-42da-f8d6-c083c99a7e4b"
   },
   "outputs": [
    {
     "data": {
      "image/png": "[encoded data removed]",
      "text/plain": [
       "<Figure size 504x288 with 1 Axes>"
      ]
     },
     "metadata": {
      "needs_background": "light"
     },
     "output_type": "display_data"
    }
   ],
   "source": [
    "plt.figure(figsize=(7,4))\n",
    "data['loan'].plot.hist(data['loan'])\n",
    "plt.title(\"Personal Loan\")\n",
    "plt.show()"
   ]
  },
  {
   "cell_type": "code",
   "execution_count": 662,
   "metadata": {
    "colab": {
     "base_uri": "https://localhost:8080/"
    },
    "id": "CiTbgRiHqMla",
    "outputId": "05ecc39b-df36-42c0-cba9-8283d9c6e900"
   },
   "outputs": [
    {
     "data": {
      "text/plain": [
       "0.0    33950\n",
       "1.0     6248\n",
       "Name: loan, dtype: int64"
      ]
     },
     "execution_count": 662,
     "metadata": {},
     "output_type": "execute_result"
    }
   ],
   "source": [
    "data['loan'].value_counts()"
   ]
  },
  {
   "cell_type": "code",
   "execution_count": 762,
   "metadata": {},
   "outputs": [
    {
     "data": {
      "image/png": "[encoded data removed]",
      "text/plain": [
       "<Figure size 1080x360 with 1 Axes>"
      ]
     },
     "metadata": {
      "needs_background": "light"
     },
     "output_type": "display_data"
    }
   ],
   "source": [
    "plt.figure(figsize=(15,5))\n",
    "sns.countplot(x = data['job'])\n",
    "plt.title(\"Jobs\")\n",
    "plt.xticks(rotation = 90)\n",
    "plt.show()"
   ]
  },
  {
   "cell_type": "code",
   "execution_count": 770,
   "metadata": {},
   "outputs": [
    {
     "data": {
      "image/png": "[encoded data removed]",
      "text/plain": [
       "<Figure size 720x504 with 1 Axes>"
      ]
     },
     "metadata": {
      "needs_background": "light"
     },
     "output_type": "display_data"
    }
   ],
   "source": [
    "plt.figure(figsize=(10,7))\n",
    "sns.countplot(x = data['education'])\n",
    "plt.title(\"Education\")\n",
    "plt.xticks(rotation = 90)\n",
    "plt.show()"
   ]
  },
  {
   "cell_type": "code",
   "execution_count": 664,
   "metadata": {},
   "outputs": [
    {
     "data": {
      "image/png": "[encoded data removed]",
      "text/plain": [
       "<Figure size 360x360 with 1 Axes>"
      ]
     },
     "metadata": {
      "needs_background": "light"
     },
     "output_type": "display_data"
    }
   ],
   "source": [
    "plt.figure(figsize=(5,5))\n",
    "sns.countplot(x = data['marital'])\n",
    "plt.xticks(rotation = 90)\n",
    "plt.title(\"Marital Status\")\n",
    "plt.show()"
   ]
  },
  {
   "cell_type": "markdown",
   "metadata": {},
   "source": [
    "We list the attributes of interest to input into our Machine Learning Algorithms"
   ]
  },
  {
   "cell_type": "code",
   "execution_count": 665,
   "metadata": {
    "id": "UflEShaXj-EP"
   },
   "outputs": [],
   "source": [
    "attributes = ['age', 'default', 'housing', 'loan',\n",
    "       'contact','duration','campaign', 'pdays',\n",
    "       'previous',  'emp.var.rate', 'cons.price.idx',\n",
    "       'cons.conf.idx', 'euribor3m', 'nr.employed',\n",
    "       'divorced', 'married', 'single', 'basic.4y', 'basic.6y', 'basic.9y',\n",
    "       'high.school', 'illiterate', 'professional.course', 'university.degree',\n",
    "       'apr', 'may',\n",
    "       'y']"
   ]
  },
  {
   "cell_type": "code",
   "execution_count": 666,
   "metadata": {
    "id": "TUza_JBrvbzh"
   },
   "outputs": [],
   "source": [
    "targetvar = ['age', 'default', 'housing', 'loan',\n",
    "       'contact', 'duration', 'campaign', 'pdays',\n",
    "       'previous',  'emp.var.rate', 'cons.price.idx',\n",
    "       'cons.conf.idx', 'euribor3m', 'nr.employed',\n",
    "       'divorced', 'married', 'single', 'basic.4y', 'basic.6y', 'basic.9y',\n",
    "       'high.school', 'illiterate', 'professional.course', 'university.degree',\n",
    "       'apr', 'may',]"
   ]
  },
  {
   "cell_type": "markdown",
   "metadata": {},
   "source": [
    "## Train Test Split And Undersampling the Data"
   ]
  },
  {
   "cell_type": "code",
   "execution_count": 714,
   "metadata": {
    "id": "1bMTGQO9Jp0t"
   },
   "outputs": [],
   "source": [
    "newdata = data[attributes].dropna(axis = 0)"
   ]
  },
  {
   "cell_type": "code",
   "execution_count": 715,
   "metadata": {},
   "outputs": [],
   "source": [
    "x = newdata[targetvar]\n",
    "y = newdata['y']"
   ]
  },
  {
   "cell_type": "code",
   "execution_count": 747,
   "metadata": {},
   "outputs": [],
   "source": [
    "X_train, X_test, y_train, y_test = train_test_split(x,y,test_size = 0.2)"
   ]
  },
  {
   "cell_type": "markdown",
   "metadata": {},
   "source": [
    "Now, we try to balance the data set.\n",
    "First we split the data into Train and Test Sets.\n",
    "Next we Seperate out the majority and minority class in the Train set.\n",
    "Then we undersample the Majority class with n equal to the number of rows in minority class.\n",
    "Splitting the data into train and test is important to make sure we do not feed the training data as test data into the algorithm which will just inflate the Metrics"
   ]
  },
  {
   "cell_type": "code",
   "execution_count": 748,
   "metadata": {},
   "outputs": [],
   "source": [
    "train_data = pd.concat([X_train,y_train],axis = 1)\n",
    "# Concatenate the dataset to undersample "
   ]
  },
  {
   "cell_type": "code",
   "execution_count": 749,
   "metadata": {
    "id": "Aglg2NVnRMkh"
   },
   "outputs": [],
   "source": [
    "majorityclass = train_data[train_data['y']==0]\n",
    "minorityclass = train_data[train_data['y']==1]"
   ]
  },
  {
   "cell_type": "code",
   "execution_count": 750,
   "metadata": {
    "colab": {
     "base_uri": "https://localhost:8080/"
    },
    "id": "dYm96dvrR-x2",
    "outputId": "bf856c89-f167-46b2-d4d9-c4dd3c30ee0b"
   },
   "outputs": [
    {
     "data": {
      "text/plain": [
       "(3413, 27)"
      ]
     },
     "execution_count": 750,
     "metadata": {},
     "output_type": "execute_result"
    }
   ],
   "source": [
    "minorityclass.shape"
   ]
  },
  {
   "cell_type": "code",
   "execution_count": 751,
   "metadata": {
    "colab": {
     "base_uri": "https://localhost:8080/"
    },
    "id": "niO1HmP6R-6B",
    "outputId": "9b4442eb-51c5-4177-d347-5768ed1c23c9"
   },
   "outputs": [
    {
     "data": {
      "text/plain": [
       "(27336, 27)"
      ]
     },
     "execution_count": 751,
     "metadata": {},
     "output_type": "execute_result"
    }
   ],
   "source": [
    "majorityclass.shape"
   ]
  },
  {
   "cell_type": "code",
   "execution_count": 752,
   "metadata": {},
   "outputs": [],
   "source": [
    "majority_under_sample = majorityclass.sample(n = minorityclass.shape[0])"
   ]
  },
  {
   "cell_type": "code",
   "execution_count": 753,
   "metadata": {},
   "outputs": [
    {
     "data": {
      "text/plain": [
       "(3413, 27)"
      ]
     },
     "execution_count": 753,
     "metadata": {},
     "output_type": "execute_result"
    }
   ],
   "source": [
    "majority_under_sample.shape"
   ]
  },
  {
   "cell_type": "code",
   "execution_count": 754,
   "metadata": {
    "id": "D6lxdrN-SlVM"
   },
   "outputs": [],
   "source": [
    "balanced_data = pd.concat([majority_under_sample, minorityclass])\n"
   ]
  },
  {
   "cell_type": "markdown",
   "metadata": {},
   "source": [
    "balanced_data contains equal number of rows of majority and minority class"
   ]
  },
  {
   "cell_type": "code",
   "execution_count": 755,
   "metadata": {},
   "outputs": [
    {
     "data": {
      "text/plain": [
       "(6826, 27)"
      ]
     },
     "execution_count": 755,
     "metadata": {},
     "output_type": "execute_result"
    }
   ],
   "source": [
    "balanced_data.shape"
   ]
  },
  {
   "cell_type": "code",
   "execution_count": 756,
   "metadata": {
    "id": "arBTUh-aJYW3"
   },
   "outputs": [],
   "source": [
    "X_train_new, y_train_new = balanced_data[targetvar], balanced_data['y']\n",
    "#Split the data sets again"
   ]
  },
  {
   "cell_type": "markdown",
   "metadata": {},
   "source": [
    "## Random Forest"
   ]
  },
  {
   "cell_type": "code",
   "execution_count": 757,
   "metadata": {},
   "outputs": [],
   "source": [
    "rfstart = time.time()\n",
    "rfclf = RandomForestClassifier(n_estimators=500,bootstrap = True,oob_score = True)\n",
    "rfclf.fit(X_train_new,y_train_new)\n",
    "rfpred = rfclf.predict(X_test)\n",
    "time4rf = time.time() - rfstart"
   ]
  },
  {
   "cell_type": "code",
   "execution_count": 709,
   "metadata": {},
   "outputs": [
    {
     "name": "stdout",
     "output_type": "stream",
     "text": [
      "Time taken by Random Forest Classifier is  7.795130252838135 seconds\n"
     ]
    }
   ],
   "source": [
    "print(\"Time taken by Random Forest Classifier is \",time4rf, \"seconds\")"
   ]
  },
  {
   "cell_type": "code",
   "execution_count": 710,
   "metadata": {
    "id": "t1Td-cf3y5c6"
   },
   "outputs": [],
   "source": [
    "importances = rfclf.feature_importances_"
   ]
  },
  {
   "cell_type": "code",
   "execution_count": 711,
   "metadata": {
    "colab": {
     "base_uri": "https://localhost:8080/"
    },
    "id": "zOMWAA4zyChR",
    "outputId": "4d477e9c-6e65-4b60-c7dd-a62ac6f7cf75"
   },
   "outputs": [
    {
     "name": "stdout",
     "output_type": "stream",
     "text": [
      "age 7.264042613762464\n",
      "default 0.0\n",
      "housing 1.4337571365410309\n",
      "loan 0.99395808858095\n",
      "contact 1.3385526268827144\n",
      "duration 42.181163537713026\n",
      "campaign 3.5960616269193446\n",
      "pdays 2.4191844288866107\n",
      "previous 1.5815128536502063\n",
      "emp.var.rate 4.430514308267357\n",
      "cons.price.idx 3.1668934528556196\n",
      "cons.conf.idx 3.6508229048976397\n",
      "euribor3m 11.97082449505427\n",
      "nr.employed 7.654835667072213\n",
      "divorced 0.5628195532065583\n",
      "married 0.8872617937294877\n",
      "single 0.8526016885437433\n",
      "basic.4y 0.5858799415180957\n",
      "basic.6y 0.4038150902858083\n",
      "basic.9y 0.8135541572545303\n",
      "high.school 0.8829330929687681\n",
      "illiterate 0.006043257118145538\n",
      "professional.course 0.7262353773251635\n",
      "university.degree 1.1331636305631516\n",
      "apr 0.3892976604351021\n",
      "may 1.0742710159679976\n"
     ]
    }
   ],
   "source": [
    "for name, score in zip(X_train_new,rfclf.feature_importances_):\n",
    "    print(name, score*100)"
   ]
  },
  {
   "cell_type": "markdown",
   "metadata": {},
   "source": [
    "Here we have removed attributes with low features importance such that removing those wont affect the metrics negatively"
   ]
  },
  {
   "cell_type": "code",
   "execution_count": 712,
   "metadata": {
    "colab": {
     "base_uri": "https://localhost:8080/",
     "height": 414
    },
    "id": "E_AcYgns0GmM",
    "outputId": "b9e76703-cd9d-47e5-a2c2-6b9f95fb4bb0"
   },
   "outputs": [
    {
     "data": {
      "image/png": "[encoded data removed]",
      "text/plain": [
       "<Figure size 1800x720 with 1 Axes>"
      ]
     },
     "metadata": {
      "needs_background": "light"
     },
     "output_type": "display_data"
    }
   ],
   "source": [
    "plt.figure(figsize=(25,10))\n",
    "sns.barplot(x = X_train_new.columns, y = importances)\n",
    "plt.xticks(rotation = 90)\n",
    "plt.title(\"Feature Importances\")\n",
    "plt.show()"
   ]
  },
  {
   "cell_type": "code",
   "execution_count": 758,
   "metadata": {
    "colab": {
     "base_uri": "https://localhost:8080/"
    },
    "id": "RcQjnq3dxrwF",
    "outputId": "25ed9be2-2560-47c4-99ce-fb95bb8a0398"
   },
   "outputs": [
    {
     "name": "stdout",
     "output_type": "stream",
     "text": [
      "Recall score =  0.9259259259259259\n",
      "Precision score =  0.42849491162292447\n",
      "Accuracy score =  0.8528876170655567\n",
      "F score =  0.585865983156353\n"
     ]
    }
   ],
   "source": [
    "print(\"Recall score = \",recall_score(y_test,rfpred))\n",
    "print(\"Precision score = \",precision_score(y_test,rfpred))\n",
    "print(\"Accuracy score = \",accuracy_score(y_test,rfpred))\n",
    "print(\"F score = \",f1_score(y_test,rfpred))"
   ]
  },
  {
   "cell_type": "code",
   "execution_count": 686,
   "metadata": {
    "colab": {
     "base_uri": "https://localhost:8080/"
    },
    "id": "Su8AFDkpUhF7",
    "outputId": "612661f2-cca9-4675-e179-3ab494ae0432"
   },
   "outputs": [
    {
     "data": {
      "text/plain": [
       "array([[5670, 1106],\n",
       "       [  70,  842]], dtype=int64)"
      ]
     },
     "execution_count": 686,
     "metadata": {},
     "output_type": "execute_result"
    }
   ],
   "source": [
    "confusion_matrix(y_test,rfpred)"
   ]
  },
  {
   "cell_type": "markdown",
   "metadata": {},
   "source": [
    "## Decision Tree"
   ]
  },
  {
   "cell_type": "code",
   "execution_count": 687,
   "metadata": {
    "id": "rg-pvsqIOyBv"
   },
   "outputs": [],
   "source": [
    "dtstart = time.time()\n",
    "Dtree = DecisionTreeClassifier(random_state=0,min_samples_split = 2,criterion = \"entropy\")\n",
    "Dtree.fit(X_train_new,y_train_new)\n",
    "prediction = tree.predict(X_test)\n",
    "time4dt = time.time() - dtstart\n"
   ]
  },
  {
   "cell_type": "code",
   "execution_count": 688,
   "metadata": {},
   "outputs": [
    {
     "name": "stdout",
     "output_type": "stream",
     "text": [
      "Time taken by Decision Tree classifier is  0.06881332397460938 Seconds\n"
     ]
    }
   ],
   "source": [
    "print(\"Time taken by Decision Tree classifier is \", time4dt, \"Seconds\")"
   ]
  },
  {
   "cell_type": "code",
   "execution_count": 689,
   "metadata": {
    "colab": {
     "base_uri": "https://localhost:8080/"
    },
    "id": "YzaCHOcNpCKc",
    "outputId": "e2107c7e-d858-4ede-a2da-8a39e169336d"
   },
   "outputs": [
    {
     "name": "stdout",
     "output_type": "stream",
     "text": [
      "Recall score =  0.9901315789473685\n",
      "Precision score =  0.4841823056300268\n",
      "Accuracy score =  0.8736992715920916\n",
      "F score =  0.6503420957868203\n"
     ]
    }
   ],
   "source": [
    "print(\"Recall score = \",recall_score(y_test,prediction))\n",
    "print(\"Precision score = \",precision_score(y_test,prediction))\n",
    "print(\"Accuracy score = \",accuracy_score(y_test,prediction))\n",
    "print(\"F score = \",f1_score(y_test,prediction))"
   ]
  },
  {
   "cell_type": "code",
   "execution_count": 690,
   "metadata": {
    "id": "48i9xNFU0p9z"
   },
   "outputs": [],
   "source": [
    "tree_imp = Dtree.feature_importances_"
   ]
  },
  {
   "cell_type": "code",
   "execution_count": 691,
   "metadata": {
    "colab": {
     "base_uri": "https://localhost:8080/",
     "height": 414
    },
    "id": "xHb7LRD001x-",
    "outputId": "f76abc15-ff29-44b5-b9ed-eaaef735b6c9"
   },
   "outputs": [
    {
     "data": {
      "image/png": "[encoded data removed]",
      "text/plain": [
       "<Figure size 1800x720 with 1 Axes>"
      ]
     },
     "metadata": {
      "needs_background": "light"
     },
     "output_type": "display_data"
    }
   ],
   "source": [
    "plt.figure(figsize=(25,10))\n",
    "sns.barplot(x = X_train_new.columns, y = tree_imp)\n",
    "plt.xticks(rotation = 90)\n",
    "plt.show()"
   ]
  },
  {
   "cell_type": "markdown",
   "metadata": {},
   "source": [
    "## Naive Bayes"
   ]
  },
  {
   "cell_type": "code",
   "execution_count": 759,
   "metadata": {
    "id": "JPUpuQNrX9vm"
   },
   "outputs": [],
   "source": [
    "nbstart = time.time()\n",
    "bayesclf = GaussianNB()\n",
    "bayesclf.fit(X_train_new,y_train_new)\n",
    "bayes_pred = bayesclf.predict(X_test)\n",
    "time4nb = time.time() - nbstart\n"
   ]
  },
  {
   "cell_type": "code",
   "execution_count": 760,
   "metadata": {},
   "outputs": [
    {
     "name": "stdout",
     "output_type": "stream",
     "text": [
      "Time taken by Decision Tree classifier is  0.03390860557556152 Seconds\n"
     ]
    }
   ],
   "source": [
    "print(\"Time taken by Decision Tree classifier is \", time4nb, \"Seconds\")"
   ]
  },
  {
   "cell_type": "code",
   "execution_count": 761,
   "metadata": {
    "colab": {
     "base_uri": "https://localhost:8080/"
    },
    "id": "6bUlM90gZgTH",
    "outputId": "b1f62217-f3a7-49eb-d202-a9086768ca41"
   },
   "outputs": [
    {
     "name": "stdout",
     "output_type": "stream",
     "text": [
      "Recall score =  0.7210648148148148\n",
      "Precision score =  0.3371212121212121\n",
      "Accuracy score =  0.8093132154006244\n",
      "F score =  0.4594395280235988\n"
     ]
    }
   ],
   "source": [
    "print(\"Recall score = \",recall_score(y_test,bayes_pred))\n",
    "print(\"Precision score = \",precision_score(y_test,bayes_pred))\n",
    "print(\"Accuracy score = \",accuracy_score(y_test,bayes_pred))\n",
    "print(\"F score = \",f1_score(y_test,bayes_pred))"
   ]
  },
  {
   "cell_type": "markdown",
   "metadata": {},
   "source": [
    "To Summarise:\n",
    "\n",
    "Random Forest:\n",
    "\n",
    "Recall score =  0.9416\n",
    "\n",
    "Accuracy score =  0.8773\n",
    "\n",
    "Decision Tree:\n",
    "\n",
    "Recall score =  0.9932\n",
    "\n",
    "Accuracy score =  0.8787\n",
    "\n",
    "Naive Bayes:\n",
    "\n",
    "Recall score =  0.7310\n",
    "\n",
    "Accuracy score =  0.8084"
   ]
  },
  {
   "cell_type": "markdown",
   "metadata": {},
   "source": [
    "We can see that Random Forest and Deision Tree perform Almost Similarly while Naive Bayes does not give a give performance\n",
    "Recall is a much more important measure than Accuracy because even if we build a classifier that outputs 0 for every entry in test set, we still would get around 88% accuracy.\n",
    "Having a high recall means we dont misclassify the people who can potentially subscribe to the term deposit."
   ]
  },
  {
   "cell_type": "code",
   "execution_count": null,
   "metadata": {},
   "outputs": [],
   "source": []
  }
 ],
 "metadata": {
  "colab": {
   "collapsed_sections": [],
   "name": "MLassign1.ipynb",
   "provenance": []
  },
  "kernelspec": {
   "display_name": "Python 3",
   "language": "python",
   "name": "python3"
  },
  "language_info": {
   "codemirror_mode": {
    "name": "ipython",
    "version": 3
   },
   "file_extension": ".py",
   "mimetype": "text/x-python",
   "name": "python",
   "nbconvert_exporter": "python",
   "pygments_lexer": "ipython3",
   "version": "3.7.6"
  }
 },
 "nbformat": 4,
 "nbformat_minor": 1
}
